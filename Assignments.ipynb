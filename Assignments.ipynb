{
  "nbformat": 4,
  "nbformat_minor": 0,
  "metadata": {
    "colab": {
      "name": "Assignments.ipynb",
      "provenance": []
    },
    "kernelspec": {
      "name": "python3",
      "display_name": "Python 3"
    },
    "language_info": {
      "name": "python"
    }
  },
  "cells": [
    {
      "cell_type": "markdown",
      "source": [
        "unit 2 L2"
      ],
      "metadata": {
        "id": "gBn7kYpN73bm"
      }
    },
    {
      "cell_type": "markdown",
      "source": [
        "1. What is python and why is it useful? "
      ],
      "metadata": {
        "id": "NMIlzqbjNCoh"
      }
    },
    {
      "cell_type": "markdown",
      "source": [
        "Python is a programming language that is able to handle large databases without overloading. It is widely known and effective."
      ],
      "metadata": {
        "id": "uv14I5UfNGQo"
      }
    },
    {
      "cell_type": "markdown",
      "source": [
        "2. Are the following variable names allowed in python? \n",
        "a.\t1_message \n",
        "no\n",
        "b.\tGreeting_message\n",
        " yes\n",
        "c.\tMessage_1 \n",
        " no\n",
        "d.\tFirst name\n",
        " no \n",
        "e.\tFull_name\n",
        " yes\n"
      ],
      "metadata": {
        "id": "K0L8kpNgNtq5"
      }
    },
    {
      "cell_type": "markdown",
      "source": [
        "3. create a variable that holds the string \"hello there!\""
      ],
      "metadata": {
        "id": "aaiE7aB7PqEK"
      }
    },
    {
      "cell_type": "code",
      "source": [
        "x = \"Hello there!\"\n",
        "print(x)"
      ],
      "metadata": {
        "colab": {
          "base_uri": "https://localhost:8080/"
        },
        "id": "r4D2rnVpP2Z2",
        "outputId": "69c43a70-8cf9-4655-cd68-e8741042a787"
      },
      "execution_count": null,
      "outputs": [
        {
          "output_type": "stream",
          "name": "stdout",
          "text": [
            "Hello there!\n"
          ]
        }
      ]
    },
    {
      "cell_type": "code",
      "source": [
        ""
      ],
      "metadata": {
        "id": "1-6MMVxFUCpH"
      },
      "execution_count": null,
      "outputs": []
    },
    {
      "cell_type": "markdown",
      "source": [
        "4. Create a variable for first name, last name and an email extension.  Concatenating all three together to form an email address.  For example: firstnamelastname@gmail.com"
      ],
      "metadata": {
        "id": "dFzRpUMiQJIc"
      }
    },
    {
      "cell_type": "code",
      "source": [
        "x =\"alexis\"\n",
        "y =\"marin\"\n",
        "z =\"@gmail.com\"\n",
        "print(x + y + z)\n"
      ],
      "metadata": {
        "colab": {
          "base_uri": "https://localhost:8080/"
        },
        "id": "PX4nW14FQPrY",
        "outputId": "c4a4e704-9af2-4d28-8092-af98139fe45f"
      },
      "execution_count": null,
      "outputs": [
        {
          "output_type": "stream",
          "name": "stdout",
          "text": [
            "alexismarin@gmail.com\n"
          ]
        }
      ]
    },
    {
      "cell_type": "markdown",
      "source": [
        "5.\tStore someone you know name in a variable called name.  Print their name in lower and uppercase using a method."
      ],
      "metadata": {
        "id": "2yD9buW4Q1vK"
      }
    },
    {
      "cell_type": "code",
      "source": [
        "name = \"Jackson\"\n",
        "print(name.lower())\n",
        "print(name.upper())"
      ],
      "metadata": {
        "colab": {
          "base_uri": "https://localhost:8080/"
        },
        "id": "FKxYjM00Q227",
        "outputId": "ae7230e9-c57d-4b9d-d644-01c7f996d826"
      },
      "execution_count": null,
      "outputs": [
        {
          "output_type": "stream",
          "name": "stdout",
          "text": [
            "jackson\n",
            "JACKSON\n"
          ]
        }
      ]
    },
    {
      "cell_type": "markdown",
      "source": [
        "6.\tUsing a variable, ask your friend if they want to hang out on the 15th of the month.  For example, “Do you want to hang out on the 15th of this month?”  You should have to convert the number to a string."
      ],
      "metadata": {
        "id": "sGDwdfZTRPHV"
      }
    },
    {
      "cell_type": "code",
      "source": [
        "name = \"Jackson\"\n",
        "day = 15\n",
        "print(name + \",\" + \" \" + \"do you want to hang out on the\" + \" \" + str(day) + 'th' + ' ' + 'of the month?')\n",
        "\n"
      ],
      "metadata": {
        "colab": {
          "base_uri": "https://localhost:8080/"
        },
        "id": "52anPi1bRQIN",
        "outputId": "dcdeca02-7e6c-4cad-bf46-bc61d32ad894"
      },
      "execution_count": null,
      "outputs": [
        {
          "output_type": "stream",
          "name": "stdout",
          "text": [
            "Jackson, do you want to hang out on the 15th of the month?\n"
          ]
        }
      ]
    },
    {
      "cell_type": "markdown",
      "source": [
        "Unit 2 L3\n",
        "1.\tCreate a list of 5 of your favorite tv shows.  \n",
        "\n",
        "\n",
        "\n",
        "2.\tPrint the list in its original order.\n",
        "\n",
        "\n",
        "3.\tUse the sorted() function to print the list in alphabetical order.  How is sorted() different from sort()?\n",
        "\n",
        "\n",
        "\n",
        "\n",
        "4.\tPrint out your original list.\n",
        "\n",
        "\n",
        "\n",
        "5.\tUsed sorted() to print your list in reverse alphabetical order.\n",
        "\n",
        "\n",
        "\n",
        "6.\tCreate a message indicating how many favorite TV shows you have – use the len() function.\n"
      ],
      "metadata": {
        "id": "vxp1-7hZUEP7"
      }
    },
    {
      "cell_type": "code",
      "source": [
        "tvshows = ['big brother', 'spongebob squarepants', 'mickey mouse', 'impractical jokers', 'scooby doo']\n",
        "print(tvshows)\n",
        "tvshows.sort()\n",
        "print(tvshows)\n",
        "\n"
      ],
      "metadata": {
        "colab": {
          "base_uri": "https://localhost:8080/"
        },
        "id": "Qme3YWADUL4V",
        "outputId": "7bde0a23-41af-4f57-fa36-d877ad0787c4"
      },
      "execution_count": null,
      "outputs": [
        {
          "output_type": "stream",
          "name": "stdout",
          "text": [
            "['big brother', 'spongebob squarepants', 'mickey mouse', 'impractical jokers', 'scooby doo']\n",
            "['big brother', 'impractical jokers', 'mickey mouse', 'scooby doo', 'spongebob squarepants']\n"
          ]
        }
      ]
    },
    {
      "cell_type": "code",
      "source": [
        "tvshows = ['big brother', 'spongebob squarepants', 'mickey mouse', 'impractical jokers', 'scooby doo']\n",
        "print(tvshows)\n",
        "x = sorted(tvshows)\n",
        "print(x)\n",
        "print(tvshows)\n",
        "y = sorted(tvshows, reverse=True)\n",
        "print(y)\n",
        "z = len(tvshows)\n",
        "print('I have' + ' ' + str(z) + ' ' + 'favorite tv shows')\n"
      ],
      "metadata": {
        "colab": {
          "base_uri": "https://localhost:8080/"
        },
        "id": "2Xhvh-w-Wyp1",
        "outputId": "857b6ce2-01b8-43bf-bf4e-fa896e432eed"
      },
      "execution_count": null,
      "outputs": [
        {
          "output_type": "stream",
          "name": "stdout",
          "text": [
            "['big brother', 'spongebob squarepants', 'mickey mouse', 'impractical jokers', 'scooby doo']\n",
            "['big brother', 'impractical jokers', 'mickey mouse', 'scooby doo', 'spongebob squarepants']\n",
            "['big brother', 'spongebob squarepants', 'mickey mouse', 'impractical jokers', 'scooby doo']\n",
            "['spongebob squarepants', 'scooby doo', 'mickey mouse', 'impractical jokers', 'big brother']\n",
            "I have 5 favorite tv shows\n"
          ]
        }
      ]
    },
    {
      "cell_type": "code",
      "source": [
        "#Unit 2 L4\n",
        "#1 Create a list that holds 5 data variables\n",
        "teams = ['nets', 'knicks', 'raptors', 'heat', 'celtics']\n",
        "#2 Print out those variables by using a for loop\n",
        "for team in teams:\n",
        " print(team)\n",
        "\n",
        "#3 Modify your loop to add a message to your loop\n",
        "for team in teams:\n",
        "  print(\"I can't wait for the \" + team.title() + ' to play!' + '\\n')\n",
        "#4 Use a for loop to print even numbers from 1-20\n",
        "y = list(range(2,20+2,2))\n",
        "for z in y:\n",
        "  print(str(z) + '\\n')\n",
        "#5 Sort your list in alphabetical order\n",
        "teams.sort()\n",
        "print(teams)\n",
        "#6 Print out the first three elements of your list\n",
        "print('\\n' + teams[0].title() + ' ' + teams[1].title() + ' ' + teams [2].title())\n",
        "#7 Create a loop to print the last 2 elements of your list\n",
        "for best_teams in teams[:-3]:\n",
        " print('\\n' + best_teams.title())"
      ],
      "metadata": {
        "colab": {
          "base_uri": "https://localhost:8080/"
        },
        "id": "zMKDTsOEdHpF",
        "outputId": "deaba89e-e5a4-41f2-8191-54a3b21cc44b"
      },
      "execution_count": null,
      "outputs": [
        {
          "output_type": "stream",
          "name": "stdout",
          "text": [
            "nets\n",
            "knicks\n",
            "raptors\n",
            "heat\n",
            "celtics\n",
            "I can't wait for the Nets to play!\n",
            "\n",
            "I can't wait for the Knicks to play!\n",
            "\n",
            "I can't wait for the Raptors to play!\n",
            "\n",
            "I can't wait for the Heat to play!\n",
            "\n",
            "I can't wait for the Celtics to play!\n",
            "\n",
            "2\n",
            "\n",
            "4\n",
            "\n",
            "6\n",
            "\n",
            "8\n",
            "\n",
            "10\n",
            "\n",
            "12\n",
            "\n",
            "14\n",
            "\n",
            "16\n",
            "\n",
            "18\n",
            "\n",
            "20\n",
            "\n",
            "['celtics', 'heat', 'knicks', 'nets', 'raptors']\n",
            "\n",
            "Celtics Heat Knicks\n",
            "\n",
            "Celtics\n",
            "\n",
            "Heat\n"
          ]
        }
      ]
    },
    {
      "cell_type": "code",
      "source": [
        "#Unit 2 L5\n",
        "# 1.\tMake a list of 5 or more usernames, including an admin account.  Imagine you are writing code that will welcome people to your application on login. Loop through the list and print your greeting.\n",
        "user = ['alexis', 'alexismarin', 'alexism', 'malexis', 'alexis2001']\n",
        "greeting = 'Hello! Welcome back'\n",
        "for username in user:\n",
        "  print(greeting + ' ' + username + '.')\n",
        "#a.\tIf the admin account logs in, give them a special greeting.  They’re the admin, after all!\n",
        "for admin in user:\n",
        "  if admin == 'alexis2001':\n",
        "    print('WELCOME ' + admin + '!!!')\n",
        "#b others can get the generic greeting\n",
        "  else:\n",
        "    print('Welcome commoner, ' + admin)\n",
        "\n",
        "# 2.\tStore numbers 1-10 in a list\n",
        "number = list(range(1,11))\n",
        "#a.\tLoop through the list\n",
        "#b.\tUse an if-elif-else chain inside your loop to print the ordinal ending for each number – for example – 1st, 2nd, 3rd … etc.\n",
        "for num in number:\n",
        "  if num >= 4:\n",
        "    print(str(num) + 'th')\n",
        "  elif num == 3:\n",
        "    print(str(num) + 'rd')\n",
        "  elif num == 2:\n",
        "    print(str(num) + 'nd')\n",
        "  else:\n",
        "    print(str(num) + 'st')"
      ],
      "metadata": {
        "colab": {
          "base_uri": "https://localhost:8080/"
        },
        "id": "PeOKb0xwc0i-",
        "outputId": "84849201-dbbb-45b5-a053-909cc352f2f1"
      },
      "execution_count": null,
      "outputs": [
        {
          "output_type": "stream",
          "name": "stdout",
          "text": [
            "Hello! Welcome back alexis.\n",
            "Hello! Welcome back alexismarin.\n",
            "Hello! Welcome back alexism.\n",
            "Hello! Welcome back malexis.\n",
            "Hello! Welcome back alexis2001.\n",
            "Welcome commoner, alexis\n",
            "Welcome commoner, alexismarin\n",
            "Welcome commoner, alexism\n",
            "Welcome commoner, malexis\n",
            "WELCOME alexis2001!!!\n",
            "1st\n",
            "2nd\n",
            "3rd\n",
            "4th\n",
            "5th\n",
            "6th\n",
            "7th\n",
            "8th\n",
            "9th\n",
            "10th\n"
          ]
        }
      ]
    },
    {
      "cell_type": "code",
      "source": [
        "#Unit_2 L6\n",
        "#1.\tCreate a simple dictionary that stores 2 variables, for example: first and last name.\n",
        "dic = {'first': 'John', 'last': 'Smith'}\n",
        "\n",
        "\n",
        "#2.\tPrint out those variables stored in your previous dictionary. \n",
        "print(dic['first'])\n",
        "print(dic['last'])\n",
        "\n",
        "\n",
        "\n",
        "#3.\tAdd a message to those variables on printing: for example: “Hello, firstname lastname!”\n",
        "print('My first name is ' + dic['first'] + ' and my last name is ' + dic['last'] + '.')\n",
        "\n",
        "\n",
        "\n",
        "\n",
        "#4.\tCreate a dictionary that holds 2 key: value pairs:\n",
        "player = {'name': 'LeBron', 'team': 'Lakers'}\n",
        "#a.\tLook through your dictionary and print each pair,\n",
        "print(player)\n",
        "\n",
        "\n",
        "\n",
        "\n",
        "\n",
        "#5.\tCreate a nested dictionary containing three dictionaries – these dictionaries could be anything (favorite pets, travel locations, etc.)\n",
        "#a.\tLoop through the dictionaries and print a message for each.\n"
      ],
      "metadata": {
        "colab": {
          "base_uri": "https://localhost:8080/"
        },
        "id": "vbfQBby1hKPh",
        "outputId": "d48b6937-0c97-44ac-9f9c-edab044fa231"
      },
      "execution_count": 4,
      "outputs": [
        {
          "output_type": "stream",
          "name": "stdout",
          "text": [
            "John\n",
            "Smith\n",
            "My first name is John and my last name is Smith.\n",
            "{'name': 'LeBron', 'team': 'Lakers'}\n"
          ]
        }
      ]
    },
    {
      "cell_type": "code",
      "source": [
        ""
      ],
      "metadata": {
        "id": "an_jIPSmMJAa"
      },
      "execution_count": null,
      "outputs": []
    }
  ]
}