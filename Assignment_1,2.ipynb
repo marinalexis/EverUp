{
  "nbformat": 4,
  "nbformat_minor": 0,
  "metadata": {
    "colab": {
      "name": "Assignment 1,2.ipynb",
      "provenance": [],
      "authorship_tag": "ABX9TyNfSWRvdG1VKZFmaezNm2eP",
      "include_colab_link": true
    },
    "kernelspec": {
      "name": "python3",
      "display_name": "Python 3"
    },
    "language_info": {
      "name": "python"
    }
  },
  "cells": [
    {
      "cell_type": "markdown",
      "metadata": {
        "id": "view-in-github",
        "colab_type": "text"
      },
      "source": [
        "<a href=\"https://colab.research.google.com/github/marinalexis/EverUp/blob/main/Assignment_1%2C2.ipynb\" target=\"_parent\"><img src=\"https://colab.research.google.com/assets/colab-badge.svg\" alt=\"Open In Colab\"/></a>"
      ]
    },
    {
      "cell_type": "markdown",
      "source": [
        "1. What is python and why is it useful? "
      ],
      "metadata": {
        "id": "NMIlzqbjNCoh"
      }
    },
    {
      "cell_type": "markdown",
      "source": [
        "Python is a programming language that is able to handle large databases without overloading. It is widely known and effective."
      ],
      "metadata": {
        "id": "uv14I5UfNGQo"
      }
    },
    {
      "cell_type": "markdown",
      "source": [
        "2. Are the following variable names allowed in python? \n",
        "a.\t1_message \n",
        "no\n",
        "b.\tGreeting_message\n",
        " yes\n",
        "c.\tMessage_1 \n",
        " no\n",
        "d.\tFirst name\n",
        " no \n",
        "e.\tFull_name\n",
        " yes\n"
      ],
      "metadata": {
        "id": "K0L8kpNgNtq5"
      }
    },
    {
      "cell_type": "markdown",
      "source": [
        "3. create a variable that holds the string \"hello there!\""
      ],
      "metadata": {
        "id": "aaiE7aB7PqEK"
      }
    },
    {
      "cell_type": "code",
      "source": [
        "x = \"Hello there!\"\n",
        "print(x)"
      ],
      "metadata": {
        "colab": {
          "base_uri": "https://localhost:8080/"
        },
        "id": "r4D2rnVpP2Z2",
        "outputId": "69c43a70-8cf9-4655-cd68-e8741042a787"
      },
      "execution_count": 13,
      "outputs": [
        {
          "output_type": "stream",
          "name": "stdout",
          "text": [
            "Hello there!\n"
          ]
        }
      ]
    },
    {
      "cell_type": "code",
      "source": [
        ""
      ],
      "metadata": {
        "id": "1-6MMVxFUCpH"
      },
      "execution_count": null,
      "outputs": []
    },
    {
      "cell_type": "markdown",
      "source": [
        "4. Create a variable for first name, last name and an email extension.  Concatenating all three together to form an email address.  For example: firstnamelastname@gmail.com"
      ],
      "metadata": {
        "id": "dFzRpUMiQJIc"
      }
    },
    {
      "cell_type": "code",
      "source": [
        "x =\"alexis\"\n",
        "y =\"marin\"\n",
        "z =\"@gmail.com\"\n",
        "print(x + y + z)\n"
      ],
      "metadata": {
        "colab": {
          "base_uri": "https://localhost:8080/"
        },
        "id": "PX4nW14FQPrY",
        "outputId": "c4a4e704-9af2-4d28-8092-af98139fe45f"
      },
      "execution_count": 17,
      "outputs": [
        {
          "output_type": "stream",
          "name": "stdout",
          "text": [
            "alexismarin@gmail.com\n"
          ]
        }
      ]
    },
    {
      "cell_type": "markdown",
      "source": [
        "5.\tStore someone you know name in a variable called name.  Print their name in lower and uppercase using a method."
      ],
      "metadata": {
        "id": "2yD9buW4Q1vK"
      }
    },
    {
      "cell_type": "code",
      "source": [
        "name = \"Jackson\"\n",
        "print(name.lower())\n",
        "print(name.upper())"
      ],
      "metadata": {
        "colab": {
          "base_uri": "https://localhost:8080/"
        },
        "id": "FKxYjM00Q227",
        "outputId": "ae7230e9-c57d-4b9d-d644-01c7f996d826"
      },
      "execution_count": 18,
      "outputs": [
        {
          "output_type": "stream",
          "name": "stdout",
          "text": [
            "jackson\n",
            "JACKSON\n"
          ]
        }
      ]
    },
    {
      "cell_type": "markdown",
      "source": [
        "6.\tUsing a variable, ask your friend if they want to hang out on the 15th of the month.  For example, “Do you want to hang out on the 15th of this month?”  You should have to convert the number to a string."
      ],
      "metadata": {
        "id": "sGDwdfZTRPHV"
      }
    },
    {
      "cell_type": "code",
      "source": [
        "name = \"Jackson\"\n",
        "day = 15\n",
        "print(name + \",\" + \" \" + \"do you want to hang out on the\" + \" \" + str(day) + 'th' + ' ' + 'of the month?')\n",
        "\n"
      ],
      "metadata": {
        "colab": {
          "base_uri": "https://localhost:8080/"
        },
        "id": "52anPi1bRQIN",
        "outputId": "dcdeca02-7e6c-4cad-bf46-bc61d32ad894"
      },
      "execution_count": 21,
      "outputs": [
        {
          "output_type": "stream",
          "name": "stdout",
          "text": [
            "Jackson, do you want to hang out on the 15th of the month?\n"
          ]
        }
      ]
    },
    {
      "cell_type": "markdown",
      "source": [
        "1.\tCreate a list of 5 of your favorite tv shows.  \n",
        "\n",
        "\n",
        "\n",
        "2.\tPrint the list in its original order.\n",
        "\n",
        "\n",
        "3.\tUse the sorted() function to print the list in alphabetical order.  How is sorted() different from sort()?\n",
        "\n",
        "\n",
        "\n",
        "\n",
        "4.\tPrint out your original list.\n",
        "\n",
        "\n",
        "\n",
        "5.\tUsed sorted() to print your list in reverse alphabetical order.\n",
        "\n",
        "\n",
        "\n",
        "6.\tCreate a message indicating how many favorite TV shows you have – use the len() function.\n"
      ],
      "metadata": {
        "id": "vxp1-7hZUEP7"
      }
    },
    {
      "cell_type": "code",
      "source": [
        "tvshows = ['big brother', 'spongebob squarepants', 'mickey mouse', 'impractical jokers', 'scooby doo']\n",
        "print(tvshows)\n",
        "tvshows.sort()\n",
        "print(tvshows)\n",
        "\n"
      ],
      "metadata": {
        "colab": {
          "base_uri": "https://localhost:8080/"
        },
        "id": "Qme3YWADUL4V",
        "outputId": "7bde0a23-41af-4f57-fa36-d877ad0787c4"
      },
      "execution_count": 31,
      "outputs": [
        {
          "output_type": "stream",
          "name": "stdout",
          "text": [
            "['big brother', 'spongebob squarepants', 'mickey mouse', 'impractical jokers', 'scooby doo']\n",
            "['big brother', 'impractical jokers', 'mickey mouse', 'scooby doo', 'spongebob squarepants']\n"
          ]
        }
      ]
    },
    {
      "cell_type": "code",
      "source": [
        "tvshows = ['big brother', 'spongebob squarepants', 'mickey mouse', 'impractical jokers', 'scooby doo']\n",
        "print(tvshows)\n",
        "x = sorted(tvshows)\n",
        "print(x)\n",
        "print(tvshows)\n",
        "y = sorted(tvshows, reverse=True)\n",
        "print(y)\n",
        "z = len(tvshows)\n",
        "print('I have' + ' ' + str(z) + ' ' + 'favorite tv shows')\n"
      ],
      "metadata": {
        "colab": {
          "base_uri": "https://localhost:8080/"
        },
        "id": "2Xhvh-w-Wyp1",
        "outputId": "857b6ce2-01b8-43bf-bf4e-fa896e432eed"
      },
      "execution_count": 44,
      "outputs": [
        {
          "output_type": "stream",
          "name": "stdout",
          "text": [
            "['big brother', 'spongebob squarepants', 'mickey mouse', 'impractical jokers', 'scooby doo']\n",
            "['big brother', 'impractical jokers', 'mickey mouse', 'scooby doo', 'spongebob squarepants']\n",
            "['big brother', 'spongebob squarepants', 'mickey mouse', 'impractical jokers', 'scooby doo']\n",
            "['spongebob squarepants', 'scooby doo', 'mickey mouse', 'impractical jokers', 'big brother']\n",
            "I have 5 favorite tv shows\n"
          ]
        }
      ]
    },
    {
      "cell_type": "code",
      "source": [
        ""
      ],
      "metadata": {
        "id": "zMKDTsOEdHpF"
      },
      "execution_count": null,
      "outputs": []
    }
  ]
}